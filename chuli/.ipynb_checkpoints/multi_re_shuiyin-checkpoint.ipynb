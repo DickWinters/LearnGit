{
 "cells": [
  {
   "cell_type": "code",
   "execution_count": 1,
   "id": "1ef7e94b",
   "metadata": {
    "scrolled": false
   },
   "outputs": [],
   "source": [
    "from PIL import Image\n",
    "import os\n",
    "import numpy as np\n",
    "import matplotlib.pyplot as plt\n",
    "lst=os.listdir('.\\\\答案')\n",
    "for k in lst:\n",
    "    if '.png' in k:\n",
    "        img=np.array(Image.open('.\\\\答案\\\\'+k).convert('L'))\n",
    "        rows,cols=img.shape\n",
    "        print(rows)\n",
    "        print(cols)\n",
    "        for i in range(rows):#灰度0为黑色，255为白色\n",
    "            for j in range(cols):\n",
    "                if img[i,j]>174:#默认设置为174，如果出现黑色，改为154,；如果线条缺失，改为194；\n",
    "                    img[i,j]=255\n",
    "                else:\n",
    "                    img[i,j]=0\n",
    "                \n",
    "        fig = plt.gcf()\n",
    "        fig.set_size_inches(cols//80/3,rows//80/3) #dpi = 300, output = 700*700 pixels\n",
    "        plt.gca().xaxis.set_major_locator(plt.NullLocator())\n",
    "        plt.gca().yaxis.set_major_locator(plt.NullLocator())\n",
    "        plt.subplots_adjust(top = 1, bottom = 0, right = 1, left = 0, hspace = 0, wspace = 0)\n",
    "        plt.margins(0,0)\n",
    "        plt.imshow(img,cmap='gray')\n",
    "        plt.axis('off')\n",
    "        plt.show()\n",
    "        fig.savefig('.\\\\答案\\\\'+k[:-4]+'.pdf', format='pdf', dpi=300, pad_inches = 0)"
   ]
  },
  {
   "cell_type": "code",
   "execution_count": 2,
   "id": "8f1299f7",
   "metadata": {},
   "outputs": [],
   "source": [
    "#同时处理\n",
    "from PIL import Image\n",
    "import os\n",
    "import numpy as np\n",
    "import matplotlib.pyplot as plt\n",
    "lst=os.listdir('.\\\\答案')\n",
    "for k in lst:\n",
    "    if '.png' in k:\n",
    "        img=np.array(Image.open('.\\\\答案\\\\'+k).convert('L'))\n",
    "        rows,cols=img.shape\n",
    "        print(rows)\n",
    "        print(cols)\n",
    "        for i in range(rows):#灰度0为黑色，255为白色\n",
    "            for j in range(cols):\n",
    "                if img[i,j]>194:#默认设置为174，如果出现黑色，改为154,；如果线条缺失，改为194，直至210；\n",
    "                    img[i,j]=255\n",
    "                else:\n",
    "                    img[i,j]=0\n",
    "        for i in range(150):#灰度0为黑色，255为白色（zoom=3,时像素150,有残留调整为120）\n",
    "            for j in range(cols):\n",
    "                if img[i,j]>174:#默认设置为174，如果出现黑色，改为154,；如果线条缺失，改为194；\n",
    "                    img[i,j]=255\n",
    "                else:\n",
    "                    img[i,j]=255\n",
    "                \n",
    "        fig = plt.gcf()\n",
    "        fig.set_size_inches(cols//80/3,rows//80/3) #dpi = 300, output = 700*700 pixels\n",
    "        plt.gca().xaxis.set_major_locator(plt.NullLocator())\n",
    "        plt.gca().yaxis.set_major_locator(plt.NullLocator())\n",
    "        plt.subplots_adjust(top = 1, bottom = 0, right = 1, left = 0, hspace = 0, wspace = 0)\n",
    "        plt.margins(0,0)\n",
    "        plt.imshow(img,cmap='gray')\n",
    "        plt.axis('off')\n",
    "        plt.show()\n",
    "        fig.savefig('.\\\\答案\\\\'+k[:-4]+'.pdf', format='pdf', dpi=300, pad_inches = 0)"
   ]
  },
  {
   "cell_type": "code",
   "execution_count": null,
   "id": "7df870c6",
   "metadata": {},
   "outputs": [],
   "source": []
  }
 ],
 "metadata": {
  "kernelspec": {
   "display_name": "Python 3 (ipykernel)",
   "language": "python",
   "name": "python3"
  },
  "language_info": {
   "codemirror_mode": {
    "name": "ipython",
    "version": 3
   },
   "file_extension": ".py",
   "mimetype": "text/x-python",
   "name": "python",
   "nbconvert_exporter": "python",
   "pygments_lexer": "ipython3",
   "version": "3.7.9"
  }
 },
 "nbformat": 4,
 "nbformat_minor": 5
}
