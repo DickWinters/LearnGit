{
 "cells": [
  {
   "cell_type": "code",
   "execution_count": null,
   "id": "eb46c452",
   "metadata": {},
   "outputs": [],
   "source": []
  },
  {
   "cell_type": "code",
   "execution_count": 1,
   "id": "8518ff27",
   "metadata": {},
   "outputs": [
    {
     "name": "stdout",
     "output_type": "stream",
     "text": [
      "bingo\n"
     ]
    }
   ],
   "source": [
    "from PIL import Image\n",
    "import os\n",
    "import numpy as np\n",
    "import matplotlib.pyplot as plt\n",
    "lst=os.listdir('.\\\\试卷')\n",
    "for k in lst:\n",
    "    if '.png' in k:\n",
    "        img=np.array(Image.open('.\\\\试卷\\\\'+k))\n",
    "        rows,cols,_=img.shape\n",
    "        print(rows)\n",
    "        print(cols)\n",
    "        for i in range(120):#（zoom=3,时像素120,有残留调整为150）\n",
    "            for j in range(cols):\n",
    "                img[i][j]=[255,255,255]#默认设置为174，如果出现黑色，改为154,；如果线条缺失，改为194；\n",
    "        fig = plt.gcf()\n",
    "        fig.set_size_inches(cols//80/3,rows//80/3) #dpi = 300, output = 700*700 pixels\n",
    "        plt.gca().xaxis.set_major_locator(plt.NullLocator())\n",
    "        plt.gca().yaxis.set_major_locator(plt.NullLocator())\n",
    "        plt.subplots_adjust(top = 1, bottom = 0, right = 1, left = 0, hspace = 0, wspace = 0)\n",
    "        plt.margins(0,0)\n",
    "        plt.imshow(img,cmap='gray')\n",
    "        plt.axis('off')\n",
    "        plt.show()\n",
    "        fig.savefig('.\\\\试卷\\\\'+k[:-4]+'.pdf', format='pdf', dpi=300, pad_inches = 0)\n",
    "print(\"bingo\")"
   ]
  },
  {
   "cell_type": "code",
   "execution_count": null,
   "id": "81a4db7a",
   "metadata": {},
   "outputs": [],
   "source": []
  }
 ],
 "metadata": {
  "kernelspec": {
   "display_name": "Python 3 (ipykernel)",
   "language": "python",
   "name": "python3"
  },
  "language_info": {
   "codemirror_mode": {
    "name": "ipython",
    "version": 3
   },
   "file_extension": ".py",
   "mimetype": "text/x-python",
   "name": "python",
   "nbconvert_exporter": "python",
   "pygments_lexer": "ipython3",
   "version": "3.7.9"
  }
 },
 "nbformat": 4,
 "nbformat_minor": 5
}
