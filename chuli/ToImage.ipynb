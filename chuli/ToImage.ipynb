{
 "cells": [
  {
   "cell_type": "code",
   "execution_count": 3,
   "id": "0b766a23",
   "metadata": {},
   "outputs": [
    {
     "name": "stdout",
     "output_type": "stream",
     "text": [
      "spent= 4\n",
      "spent= 3\n",
      "spent= 6\n",
      "spent= 4\n",
      "已完成\n"
     ]
    }
   ],
   "source": [
    "import datetime\n",
    "import os\n",
    "import fitz\n",
    "f_path='.\\\\试卷'\n",
    "lst_file=os.listdir(f_path)\n",
    "for pdf_file in lst_file:\n",
    "    if \".pdf\" in pdf_file:\n",
    "        startTime=datetime.datetime.now()\n",
    "        pdfPath=f_path+\"\\\\\"+pdf_file\n",
    "        with fitz.open(pdfPath) as pdfDoc:\n",
    "            imagePath=f_path\n",
    "            for pg in range(pdfDoc.page_count):\n",
    "                page=pdfDoc[pg]\n",
    "                rotate=int(0)\n",
    "                zoom_x=3#（1.3333333-->1056x816）（2-->1584x1224)\n",
    "                zoom_y=3\n",
    "                mat=fitz.Matrix(zoom_x,zoom_y).prerotate(rotate)\n",
    "                pix=page.get_pixmap(matrix=mat,alpha=False)\n",
    "                if not os.path.exists(imagePath):\n",
    "                    os.makedirs(imagePath)\n",
    "                #pix._writeIMG(imagePath+'/'+'image_%s'%pg)\n",
    "                pix.save(imagePath+'/'+pdf_file[:-4]+\"-%i.png\" % pg)\n",
    "        endTime=datetime.datetime.now()\n",
    "        print(\"spent=\",(endTime-startTime).seconds)\n",
    "else:\n",
    "    print(\"已完成\")\n",
    "#出现28错误时，为'去.png'的问题，应改掉其后缀"
   ]
  },
  {
   "cell_type": "code",
   "execution_count": 2,
   "id": "8e2661e6",
   "metadata": {},
   "outputs": [],
   "source": [
    "from IPython.core.interactiveshell import InteractiveShell\n",
    "InteractiveShell.ast_node_interactivity='all'"
   ]
  },
  {
   "cell_type": "code",
   "execution_count": null,
   "id": "478a51b3",
   "metadata": {},
   "outputs": [],
   "source": []
  }
 ],
 "metadata": {
  "kernelspec": {
   "display_name": "Python 3 (ipykernel)",
   "language": "python",
   "name": "python3"
  },
  "language_info": {
   "codemirror_mode": {
    "name": "ipython",
    "version": 3
   },
   "file_extension": ".py",
   "mimetype": "text/x-python",
   "name": "python",
   "nbconvert_exporter": "python",
   "pygments_lexer": "ipython3",
   "version": "3.11.3"
  }
 },
 "nbformat": 4,
 "nbformat_minor": 5
}
